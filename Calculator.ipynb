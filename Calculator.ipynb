{
 "cells": [
  {
   "cell_type": "code",
   "execution_count": 2,
   "metadata": {},
   "outputs": [],
   "source": [
    "import numpy as np"
   ]
  },
  {
   "cell_type": "code",
   "execution_count": 26,
   "metadata": {},
   "outputs": [],
   "source": [
    "#function declaration includiing ValueError\n",
    "\n",
    "def calculate(x):\n",
    "    if len(x) !=9:\n",
    "        raise ValueError('List must contain nine numbers.')\n",
    "    \n",
    "#convert to numpy array\n",
    "    x=np.array(x)\n",
    "    x=x.reshape(3,3)\n",
    "\n",
    "#testing output\n",
    "    print(x)\n",
    "\n",
    "#return of calculator\n",
    "    return {\n",
    "    'mean': [x.mean(axis=0).tolist(), x.mean(axis=1).tolist(), np.mean(x).tolist()],\n",
    "    'variance': [x.var(axis=0).tolist(), x.var(axis=1).tolist(), np.var(x).tolist()],\n",
    "    'standard deviation': [x.std(axis=0).tolist(), x.std(axis=1).tolist(), np.std(x).tolist()],\n",
    "    'max': [x.max(axis=0).tolist(), x.max(axis=1).tolist(), np.max(x).tolist()],\n",
    "    'min': [x.min(axis=0).tolist(), x.min(axis=1).tolist(), np.min(x).tolist()],\n",
    "    'sum': [x.sum(axis=0).tolist(), x.sum(axis=1).tolist(), np.sum(x).tolist()]\n",
    "};"
   ]
  },
  {
   "cell_type": "code",
   "execution_count": 27,
   "metadata": {},
   "outputs": [
    {
     "name": "stdout",
     "output_type": "stream",
     "text": [
      "[[0 1 2]\n",
      " [3 4 5]\n",
      " [6 7 8]]\n"
     ]
    },
    {
     "data": {
      "text/plain": [
       "{'mean': [[3.0, 4.0, 5.0], [1.0, 4.0, 7.0], 4.0],\n",
       " 'variance': [[6.0, 6.0, 6.0],\n",
       "  [0.6666666666666666, 0.6666666666666666, 0.6666666666666666],\n",
       "  6.666666666666667],\n",
       " 'standard deviation': [[2.449489742783178,\n",
       "   2.449489742783178,\n",
       "   2.449489742783178],\n",
       "  [0.816496580927726, 0.816496580927726, 0.816496580927726],\n",
       "  2.581988897471611],\n",
       " 'max': [[6, 7, 8], [2, 5, 8], 8],\n",
       " 'min': [[0, 1, 2], [0, 3, 6], 0],\n",
       " 'sum': [[9, 12, 15], [3, 12, 21], 36]}"
      ]
     },
     "execution_count": 27,
     "metadata": {},
     "output_type": "execute_result"
    }
   ],
   "source": [
    "#test\n",
    "calculate([0,1,2,3,4,5,6,7,8])"
   ]
  }
 ],
 "metadata": {
  "kernelspec": {
   "display_name": "base",
   "language": "python",
   "name": "python3"
  },
  "language_info": {
   "codemirror_mode": {
    "name": "ipython",
    "version": 3
   },
   "file_extension": ".py",
   "mimetype": "text/x-python",
   "name": "python",
   "nbconvert_exporter": "python",
   "pygments_lexer": "ipython3",
   "version": "3.11.4"
  },
  "orig_nbformat": 4
 },
 "nbformat": 4,
 "nbformat_minor": 2
}
